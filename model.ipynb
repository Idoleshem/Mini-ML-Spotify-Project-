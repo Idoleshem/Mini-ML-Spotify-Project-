{
 "cells": [
  {
   "cell_type": "code",
   "execution_count": 535,
   "metadata": {},
   "outputs": [],
   "source": [
    "import numpy as np\n",
    "import pandas as pd\n",
    "from sklearn import datasets, linear_model\n",
    "from sklearn.model_selection import train_test_split,GridSearchCV\n",
    "from sklearn.ensemble import RandomForestRegressor\n",
    "from sklearn.tree import DecisionTreeRegressor\n",
    "import matplotlib.pyplot as plt # data visualization\n",
    "import ipywidgets as widgets # interactive widgets\n",
    "from ipywidgets import Box\n",
    "import seaborn as sns\n",
    "from sklearn.feature_selection import RFE\n",
    "from sklearn.model_selection import KFold\n",
    "from sklearn.metrics import mean_squared_error\n",
    "import tensorflow as tf\n",
    "from tensorflow import keras\n",
    "from tensorflow.keras import layers\n"
   ]
  },
  {
   "cell_type": "code",
   "execution_count": 577,
   "metadata": {},
   "outputs": [],
   "source": [
    "#version = 1 # no genre and time signature values\n",
    "#version = 2 # with new variables \n",
    "#version = 3 # data standartization \n",
    "#version = 4 # Feature Selection\n",
    "#version = 5 # Cross Validation GridSearchCV\n",
    "version = 6 # Deep Learning"
   ]
  },
  {
   "cell_type": "code",
   "execution_count": 537,
   "metadata": {},
   "outputs": [],
   "source": [
    "# data loading and descriptive statistics\n",
    "df = pd.read_csv('SpotifyFeatures.csv')"
   ]
  },
  {
   "cell_type": "code",
   "execution_count": 538,
   "metadata": {},
   "outputs": [],
   "source": [
    "# update column values\n",
    "df[\"genre\"].replace({\"Children's Music\": \"Children’s Music\"}, inplace=True)\n",
    "# general category\n",
    "df[\"genre\"].replace({\"Soundtrack\": \"General\",\"Movie\":\"General\",\"Anime\":\"General\",\"Children’s Music\":\"General\",\"Comedy\":\"General\"}, inplace=True)\n",
    "# dance\n",
    "df[\"genre\"].replace({\"Hip-Hop\": \"Dance\",\"R&B\":\"dance\",\"Dance\":\"Dance\",\"Rap\":\"Dance\",\"Pop\":\"Dance\"}, inplace=True)\n",
    "# folk\n",
    "df[\"genre\"].replace({\"Folk\": \"Folk\",\"Soul\":\"Folk\",\"Blues\":\"Folk\",\"Country\":\"Folk\"}, inplace=True)\n",
    "# Reggae\n",
    "df[\"genre\"].replace({\"Reggaeton\": \"Reggae\",\"Ska\":\"Reggae\",\"Reggae\":\"Reggae\",\"World\":\"Reggae\"}, inplace=True)\n",
    "# Alternative\n",
    "df[\"genre\"].replace({\"Indie\": \"Alternative\",\"Rock\":\"Alternative\",\"Alternative\":\"Alternative\",\"Electronic\":\"Alternative\",\"Jazz\":\"Alternative\"}, inplace=True)\n",
    "# Reggae\n",
    "df[\"genre\"].replace({\"Classical\": \"Classical\",\"Opera\":\"Classical\",\"A Capella\":\"Classical\"}, inplace=True)"
   ]
  },
  {
   "cell_type": "code",
   "execution_count": 539,
   "metadata": {},
   "outputs": [],
   "source": [
    "# for version +2\n",
    "# create dummy variables\n",
    "if version>=2:\n",
    "    genre_df=pd.get_dummies(df[\"genre\"]) \n",
    "    df = pd.concat([df,genre_df],axis=1) \n",
    "\n",
    "    # create dummy variables - time_signature\n",
    "    time_signature_df=pd.get_dummies(df[\"time_signature\"]) \n",
    "    df = pd.concat([df,time_signature_df],axis=1) \n",
    "\n",
    "    # remove old variables\n",
    "    df.drop(['genre','time_signature','0/4','1/4'],axis=1, inplace=True)"
   ]
  },
  {
   "cell_type": "code",
   "execution_count": 540,
   "metadata": {},
   "outputs": [],
   "source": [
    "# all versions\n",
    "# Data cleaning and arrangement the data\n",
    "df['mode'] = np.where(df['mode']=='Major', 1, 0) #change songs' mode (minor/major) to numerical\n",
    "\n",
    "# change songs duration from milliseconds to seconds\n",
    "df['duration_ms'] = df['duration_ms'] / 1000\n",
    "df.rename(columns={'duration_ms': 'duration_s'}, inplace=True) # update column label\n",
    "\n",
    "# drop variables:\n",
    "df.drop_duplicates(subset=['track_id'], keep='first',inplace=True)\n",
    "if version==1:\n",
    "    df.drop(['artist_name','track_name','track_id','key','genre','time_signature'],axis=1, inplace=True)\n",
    "\n",
    "elif version>=2:\n",
    "    df.drop(['artist_name','track_name','track_id','key'],axis=1, inplace=True)"
   ]
  },
  {
   "cell_type": "code",
   "execution_count": 541,
   "metadata": {},
   "outputs": [],
   "source": [
    "# versions +3\n",
    "# data standardtization\n",
    "# scale the dataset and make computations more efficient\n",
    "if version ==3:\n",
    "    features = [\"duration_s\",\"loudness\",\"tempo\",\"popularity\"]\n",
    "    for feature in features:\n",
    "        mean = df[feature].mean()\n",
    "        std = df[feature].std()\n",
    "        df[feature] = (df[feature]-mean)/std "
   ]
  },
  {
   "cell_type": "code",
   "execution_count": 542,
   "metadata": {},
   "outputs": [],
   "source": [
    "# feature selection - version +4\n",
    "if version ==4:\n",
    "    df.drop(['duration_s','mode','tempo','valence','5/4','Reggae'],axis=1, inplace=True)"
   ]
  },
  {
   "cell_type": "code",
   "execution_count": 543,
   "metadata": {},
   "outputs": [],
   "source": [
    "# All versions\n",
    "X= df.loc[:,df.columns !=\"popularity\"]\n",
    "y = df[\"popularity\"]"
   ]
  },
  {
   "cell_type": "code",
   "execution_count": 544,
   "metadata": {},
   "outputs": [],
   "source": [
    "# Data visualzation\n",
    "#sample = df.sample(1000)\n",
    "#sns.kdeplot(x = sample[\"acousticness\"])\n",
    "#sns.scatterplot(x=sample[\"acousticness\"], y=sample[\"popularity\"])\n",
    "#sns.pairplot(sample[[\"acousticness\",\"danceability\"]])\n",
    "#correlation_mat = df.corr()\n",
    "#print(correlation_mat)\n",
    "#sns.heatmap(correlation_mat)\n",
    "#sns.scatterplot(sample[\"loudness\"], sample[\"acousticness\"], hue=sample[\"popularity\"])\n",
    "#sns.scatterplot(sample[\"acousticness\"], sample[\"danceability\"], size=sample[\"popularity\"])\n",
    "#g = sns.PairGrid(sample[[ \"acousticness\",\"popularity\",\"genre\"]], hue=\"genre\")\n",
    "#g.map_diag(sns.histplot)\n",
    "#g.map_offdiag(sns.scatterplot)\n",
    "#g.add_legend();\n",
    "\n",
    "#df sample = diamonds.sample(3000)"
   ]
  },
  {
   "cell_type": "code",
   "execution_count": 545,
   "metadata": {},
   "outputs": [],
   "source": [
    "# version 3\n",
    "if version ==3:\n",
    "    correlation_mat = df.corr()\n",
    "    print(correlation_mat)\n",
    "#sns.heatmap(correlation_mat,annot=True)"
   ]
  },
  {
   "cell_type": "code",
   "execution_count": 546,
   "metadata": {},
   "outputs": [
    {
     "data": {
      "text/plain": [
       "'\\nsns.pairplot(sample[[\"danceability\",\"loudness\", \"acousticness\", \"popularity\"]],diag_kind=\"kde\")\\n\\nacousticness = [0,1]\\ndanceability = [0,1]\\nduration_s = [0,600]\\nenergy = [0,1]\\ninstrumentalness = [0,1]\\nliveness = [0,1]\\nloudness= [ -60,0]\\nspeechiness = [0,1]\\ntempo = [0,250]\\nvalence = [0,1]\\nmode = [0,1]\\n'"
      ]
     },
     "execution_count": 546,
     "metadata": {},
     "output_type": "execute_result"
    }
   ],
   "source": [
    "# version 4\n",
    "if version ==4:\n",
    "    sample = df.sample(500)\n",
    "    #g = sns.pairplot(sample[[\"loudness\", \"acousticness\", \"popularity\"]])\n",
    "#sns.pairplot(sample[[\"danceability\",\"loudness\", \"acousticness\", \"popularity\"]],diag_kind=\"kde\")\n",
    "    #sns.pairplot(sample[[\"danceability\",\"loudness\", \"acousticness\", \"popularity\",\"genre\"]], hue=\"genre\")\n",
    "\"\"\"\n",
    "sns.pairplot(sample[[\"danceability\",\"loudness\", \"acousticness\", \"popularity\"]],diag_kind=\"kde\")\n",
    "\n",
    "acousticness = [0,1]\n",
    "danceability = [0,1]\n",
    "duration_s = [0,600]\n",
    "energy = [0,1]\n",
    "instrumentalness = [0,1]\n",
    "liveness = [0,1]\n",
    "loudness= [ -60,0]\n",
    "speechiness = [0,1]\n",
    "tempo = [0,250]\n",
    "valence = [0,1]\n",
    "mode = [0,1]\n",
    "\"\"\""
   ]
  },
  {
   "cell_type": "code",
   "execution_count": 547,
   "metadata": {},
   "outputs": [],
   "source": [
    "# create a linear regression object\n",
    "model_regression = linear_model.LinearRegression()\n",
    "\n",
    "# create a random forest regression object\n",
    "model_random_forest = RandomForestRegressor()\n",
    "\n",
    "# create a random forest regression object\n",
    "model_decision_tree = DecisionTreeRegressor()"
   ]
  },
  {
   "cell_type": "code",
   "execution_count": 548,
   "metadata": {},
   "outputs": [],
   "source": [
    "# only on the first time\n",
    "# MSE Track\n",
    "if version == 1:\n",
    "    regression_rmse = []\n",
    "    random_forest_rmse = []\n",
    "    decision_tree_rmse = []\n",
    "\n",
    "    Phase = ['baseline','feature engineering','data standartization','feature selection','cross validation']\n"
   ]
  },
  {
   "cell_type": "code",
   "execution_count": 549,
   "metadata": {},
   "outputs": [],
   "source": [
    "# separate the data to training and testing\n",
    "X_train, X_test, y_train,y_test=train_test_split(X,y,test_size=0.2)\n",
    "# save as np.array\n",
    "X_train = np.array(X_train)\n",
    "X_test = np.array(X_test)\n",
    "y_train = np.array(y_train) \n",
    "y_test = np.array(y_test) "
   ]
  },
  {
   "cell_type": "code",
   "execution_count": 550,
   "metadata": {},
   "outputs": [
    {
     "data": {
      "text/plain": [
       "\"\\nif version ==5:\\n    folds = KFold(n_splits = 10, shuffle = True)\\n    hyper_params = [{'n_features_to_select': list(range(0,X.shape[1]))}] # specify range of hyperparameters\\n    model_regression.fit(X_train,y_train)\\n    rfe = RFE(model_regression) \\n    model_cv = GridSearchCV(estimator = rfe, \\n                        param_grid = hyper_params, \\n                        scoring= 'r2', \\n                        cv = folds, \\n                        verbose = 1,\\n                        return_train_score=True)    \\n\\n    # fit the model\\n    model_cv.fit(X_train, y_train)\\n    cv_results = pd.DataFrame(model_cv.cv_results_) \\n    y_pred = model_cv.predict(X_test)\\n    #model_regression.coef\\n    mse = mean_squared_error(y_test,y_pred)\\n\""
      ]
     },
     "execution_count": 550,
     "metadata": {},
     "output_type": "execute_result"
    }
   ],
   "source": [
    "# version 5\n",
    "\"\"\"\n",
    "if version ==5:\n",
    "    folds = KFold(n_splits = 10, shuffle = True)\n",
    "    hyper_params = [{'n_features_to_select': list(range(0,X.shape[1]))}] # specify range of hyperparameters\n",
    "    model_regression.fit(X_train,y_train)\n",
    "    rfe = RFE(model_regression) \n",
    "    model_cv = GridSearchCV(estimator = rfe, \n",
    "                        param_grid = hyper_params, \n",
    "                        scoring= 'r2', \n",
    "                        cv = folds, \n",
    "                        verbose = 1,\n",
    "                        return_train_score=True)    \n",
    "\n",
    "    # fit the model\n",
    "    model_cv.fit(X_train, y_train)\n",
    "    cv_results = pd.DataFrame(model_cv.cv_results_) \n",
    "    y_pred = model_cv.predict(X_test)\n",
    "    #model_regression.coef\n",
    "    mse = mean_squared_error(y_test,y_pred)\n",
    "\"\"\""
   ]
  },
  {
   "cell_type": "code",
   "execution_count": 551,
   "metadata": {},
   "outputs": [],
   "source": [
    "\n",
    "# The models\n",
    "if version ==5:    \n",
    "    model_random_forest.fit(X_train,y_train)\n",
    "    model_decision_tree.fit(X_train,y_train)\n",
    "else:\n",
    "    model_regression.fit(X_train,y_train)\n",
    "    model_random_forest.fit(X_train,y_train)\n",
    "    model_decision_tree.fit(X_train,y_train)\n",
    "\n"
   ]
  },
  {
   "cell_type": "code",
   "execution_count": 552,
   "metadata": {},
   "outputs": [
    {
     "name": "stdout",
     "output_type": "stream",
     "text": [
      "Fitting 10 folds for each of 18 candidates, totalling 180 fits\n"
     ]
    },
    {
     "name": "stderr",
     "output_type": "stream",
     "text": [
      "c:\\Users\\Ido Leshem\\AppData\\Local\\Programs\\Python\\Python38\\lib\\site-packages\\sklearn\\model_selection\\_validation.py:372: FitFailedWarning: \n",
      "10 fits failed out of a total of 180.\n",
      "The score on these train-test partitions for these parameters will be set to nan.\n",
      "If these failures are not expected, you can try to debug them by setting error_score='raise'.\n",
      "\n",
      "Below are more details about the failures:\n",
      "--------------------------------------------------------------------------------\n",
      "9 fits failed with the following error:\n",
      "Traceback (most recent call last):\n",
      "  File \"c:\\Users\\Ido Leshem\\AppData\\Local\\Programs\\Python\\Python38\\lib\\site-packages\\sklearn\\model_selection\\_validation.py\", line 680, in _fit_and_score\n",
      "    estimator.fit(X_train, y_train, **fit_params)\n",
      "  File \"c:\\Users\\Ido Leshem\\AppData\\Local\\Programs\\Python\\Python38\\lib\\site-packages\\sklearn\\feature_selection\\_rfe.py\", line 222, in fit\n",
      "    return self._fit(X, y, **fit_params)\n",
      "  File \"c:\\Users\\Ido Leshem\\AppData\\Local\\Programs\\Python\\Python38\\lib\\site-packages\\sklearn\\feature_selection\\_rfe.py\", line 310, in _fit\n",
      "    self.estimator_.fit(X[:, features], y, **fit_params)\n",
      "  File \"c:\\Users\\Ido Leshem\\AppData\\Local\\Programs\\Python\\Python38\\lib\\site-packages\\sklearn\\linear_model\\_base.py\", line 662, in fit\n",
      "    X, y = self._validate_data(\n",
      "  File \"c:\\Users\\Ido Leshem\\AppData\\Local\\Programs\\Python\\Python38\\lib\\site-packages\\sklearn\\base.py\", line 581, in _validate_data\n",
      "    X, y = check_X_y(X, y, **check_params)\n",
      "  File \"c:\\Users\\Ido Leshem\\AppData\\Local\\Programs\\Python\\Python38\\lib\\site-packages\\sklearn\\utils\\validation.py\", line 964, in check_X_y\n",
      "    X = check_array(\n",
      "  File \"c:\\Users\\Ido Leshem\\AppData\\Local\\Programs\\Python\\Python38\\lib\\site-packages\\sklearn\\utils\\validation.py\", line 814, in check_array\n",
      "    raise ValueError(\n",
      "ValueError: Found array with 0 feature(s) (shape=(127277, 0)) while a minimum of 1 is required.\n",
      "\n",
      "--------------------------------------------------------------------------------\n",
      "1 fits failed with the following error:\n",
      "Traceback (most recent call last):\n",
      "  File \"c:\\Users\\Ido Leshem\\AppData\\Local\\Programs\\Python\\Python38\\lib\\site-packages\\sklearn\\model_selection\\_validation.py\", line 680, in _fit_and_score\n",
      "    estimator.fit(X_train, y_train, **fit_params)\n",
      "  File \"c:\\Users\\Ido Leshem\\AppData\\Local\\Programs\\Python\\Python38\\lib\\site-packages\\sklearn\\feature_selection\\_rfe.py\", line 222, in fit\n",
      "    return self._fit(X, y, **fit_params)\n",
      "  File \"c:\\Users\\Ido Leshem\\AppData\\Local\\Programs\\Python\\Python38\\lib\\site-packages\\sklearn\\feature_selection\\_rfe.py\", line 310, in _fit\n",
      "    self.estimator_.fit(X[:, features], y, **fit_params)\n",
      "  File \"c:\\Users\\Ido Leshem\\AppData\\Local\\Programs\\Python\\Python38\\lib\\site-packages\\sklearn\\linear_model\\_base.py\", line 662, in fit\n",
      "    X, y = self._validate_data(\n",
      "  File \"c:\\Users\\Ido Leshem\\AppData\\Local\\Programs\\Python\\Python38\\lib\\site-packages\\sklearn\\base.py\", line 581, in _validate_data\n",
      "    X, y = check_X_y(X, y, **check_params)\n",
      "  File \"c:\\Users\\Ido Leshem\\AppData\\Local\\Programs\\Python\\Python38\\lib\\site-packages\\sklearn\\utils\\validation.py\", line 964, in check_X_y\n",
      "    X = check_array(\n",
      "  File \"c:\\Users\\Ido Leshem\\AppData\\Local\\Programs\\Python\\Python38\\lib\\site-packages\\sklearn\\utils\\validation.py\", line 814, in check_array\n",
      "    raise ValueError(\n",
      "ValueError: Found array with 0 feature(s) (shape=(127278, 0)) while a minimum of 1 is required.\n",
      "\n",
      "  warnings.warn(some_fits_failed_message, FitFailedWarning)\n",
      "c:\\Users\\Ido Leshem\\AppData\\Local\\Programs\\Python\\Python38\\lib\\site-packages\\sklearn\\model_selection\\_search.py:969: UserWarning: One or more of the test scores are non-finite: [       nan 0.11872534 0.32051726 0.41520267 0.46316842 0.50650644\n",
      " 0.51293407 0.51293567 0.52132439 0.52262409 0.52429878 0.52602928\n",
      " 0.52641791 0.52679102 0.5272667  0.52740166 0.5274027  0.52740208]\n",
      "  warnings.warn(\n",
      "c:\\Users\\Ido Leshem\\AppData\\Local\\Programs\\Python\\Python38\\lib\\site-packages\\sklearn\\model_selection\\_search.py:969: UserWarning: One or more of the train scores are non-finite: [       nan 0.11845958 0.32190309 0.41546125 0.46353625 0.50677603\n",
      " 0.51303501 0.51302712 0.52143029 0.52294369 0.52442738 0.52615471\n",
      " 0.52661731 0.52691028 0.52740959 0.52755272 0.52756128 0.52757112]\n",
      "  warnings.warn(\n"
     ]
    }
   ],
   "source": [
    "# version 5\n",
    "if version == 5:\n",
    "    hyper_params = [{'n_features_to_select': list(range(0, 18))}] # specify range of hyperparameters\n",
    "    rfe = RFE(model_regression) \n",
    "    model_model_regression_cv = GridSearchCV(estimator = rfe, \n",
    "                            param_grid = hyper_params, \n",
    "                            scoring= 'r2', \n",
    "                            cv = folds, \n",
    "                            verbose = 1,\n",
    "                            return_train_score=True)      \n",
    "\n",
    "    # fit the model\n",
    "    model_model_regression_cv.fit(X_train, y_train)\n",
    "\n",
    "    cv_results = pd.DataFrame(model_model_regression_cv.cv_results_)\n",
    "   "
   ]
  },
  {
   "cell_type": "code",
   "execution_count": 553,
   "metadata": {},
   "outputs": [
    {
     "data": {
      "image/png": "[encoded data removed]",
      "text/plain": [
       "<Figure size 720x720 with 1 Axes>"
      ]
     },
     "metadata": {
      "needs_background": "light"
     },
     "output_type": "display_data"
    }
   ],
   "source": [
    "# version 5 \n",
    "if version == 5:\n",
    "    plt.figure(figsize=(10,10))\n",
    "    plt.plot(cv_results[\"param_n_features_to_select\"], cv_results[\"mean_test_score\"])\n",
    "    plt.plot(cv_results[\"param_n_features_to_select\"], cv_results[\"mean_train_score\"])\n",
    "    plt.xlabel('number of features')\n",
    "    plt.ylabel('r-squared')\n",
    "    plt.title(\"Optimal Number of Features\")\n",
    "    plt.legend(['test score', 'train score'], loc='upper left')"
   ]
  },
  {
   "cell_type": "code",
   "execution_count": 554,
   "metadata": {},
   "outputs": [
    {
     "data": {
      "text/plain": [
       "'\\n# estimate the R² score on train data\\nprint(\"Train data - the R^2 is\",model_regression.score(X_train,y_train))\\n# estimate the R² score on test data\\nprint(\"Test data - the R^2 is\",model_regression.score(X_test,y_test))\\n\\n# not relevant\\n# estimate the R² score on train data\\nprint(\"Train data - the R^2 is\",model_random_forest.score(X_train,y_train))\\n# estimate the R² score on test data\\nprint(\"Test data - the R^2 is\",model_random_forest.score(X_test,y_test))\\n\\n# not relevant\\n# estimate the R² score on train data\\nprint(\"Train data - the R^2 is\",model_decision_tree.score(X_train,y_train))\\n# estimate the R² score on test data\\nprint(\"Test data - the R^2 is\",model_decision_tree.score(X_test,y_test))\\n'"
      ]
     },
     "execution_count": 554,
     "metadata": {},
     "output_type": "execute_result"
    }
   ],
   "source": [
    "# not relevant\n",
    "\"\"\"\n",
    "# estimate the R² score on train data\n",
    "print(\"Train data - the R^2 is\",model_regression.score(X_train,y_train))\n",
    "# estimate the R² score on test data\n",
    "print(\"Test data - the R^2 is\",model_regression.score(X_test,y_test))\n",
    "\n",
    "# not relevant\n",
    "# estimate the R² score on train data\n",
    "print(\"Train data - the R^2 is\",model_random_forest.score(X_train,y_train))\n",
    "# estimate the R² score on test data\n",
    "print(\"Test data - the R^2 is\",model_random_forest.score(X_test,y_test))\n",
    "\n",
    "# not relevant\n",
    "# estimate the R² score on train data\n",
    "print(\"Train data - the R^2 is\",model_decision_tree.score(X_train,y_train))\n",
    "# estimate the R² score on test data\n",
    "print(\"Test data - the R^2 is\",model_decision_tree.score(X_test,y_test))\n",
    "\"\"\""
   ]
  },
  {
   "cell_type": "code",
   "execution_count": 555,
   "metadata": {},
   "outputs": [],
   "source": [
    "# all versions\n",
    "if version != 5:\n",
    "    y_pred_reg = model_regression.predict(X_test)\n",
    "if version == 5:\n",
    "    y_pred_reg = model_model_regression_cv.predict(X_test)\n",
    "y_pred_random_forset = model_random_forest.predict(X_test)\n",
    "y_pred_decision_tree = model_decision_tree.predict(X_test)\n",
    "\n",
    "#sns.regplot(y_test[0:100],y_pred_reg[0:100])\n",
    "mse1 = mean_squared_error(y_test,y_pred_reg)\n",
    "\n",
    "rmse1 = np.sqrt(mse1)\n",
    "\n",
    "mse2 = mean_squared_error(y_test,y_pred_random_forset)\n",
    "# we want smaller rmse\n",
    "rmse2 = np.sqrt(mse2)\n",
    "\n",
    "\n",
    "mse3 = mean_squared_error(y_test,y_pred_decision_tree)\n",
    "# we want smaller rmse\n",
    "rmse3 = np.sqrt(mse3)\n",
    "\n",
    "\n",
    "regression_rmse.append(rmse1)\n",
    "random_forest_rmse.append(rmse2)\n",
    "decision_tree_rmse.append(rmse3)"
   ]
  },
  {
   "cell_type": "code",
   "execution_count": 556,
   "metadata": {},
   "outputs": [
    {
     "data": {
      "text/plain": [
       "\"\\nimport matplotlib.pyplot as plt\\ntest_samples = 10\\nregression = []\\nrandom_forest = []\\ndecision_tree = []\\nground_truth = []\\nfor i in range(test_samples): \\n    regression.append(model_regression.predict([X_test[i]])) \\n    random_forest.append(model_random_forest.predict([X_test[i]]))\\n    decision_tree.append(model_decision_tree.predict([X_test[i]]))\\n    ground_truth.append(y_test[i])\\n\\nplt.plot(range(len(regression)), regression, label='Linear Regression')\\nplt.plot(range(len(random_forest)), random_forest, label='Random Forest')\\nplt.plot(range(len(decision_tree)), decision_tree, label='Decision Tree')\\nplt.plot(range(len(ground_truth)), ground_truth, label='Ground Truth')\\nplt.xlim([0, test_samples])\\nplt.ylim([0, 100])\\nplt.xlabel('songs')\\nplt.ylabel('popularity')\\nplt.legend()\\nplt.show()\\n\""
      ]
     },
     "execution_count": 556,
     "metadata": {},
     "output_type": "execute_result"
    }
   ],
   "source": [
    "\"\"\"\n",
    "import matplotlib.pyplot as plt\n",
    "test_samples = 10\n",
    "regression = []\n",
    "random_forest = []\n",
    "decision_tree = []\n",
    "ground_truth = []\n",
    "for i in range(test_samples): \n",
    "    regression.append(model_regression.predict([X_test[i]])) \n",
    "    random_forest.append(model_random_forest.predict([X_test[i]]))\n",
    "    decision_tree.append(model_decision_tree.predict([X_test[i]]))\n",
    "    ground_truth.append(y_test[i])\n",
    "\n",
    "plt.plot(range(len(regression)), regression, label='Linear Regression')\n",
    "plt.plot(range(len(random_forest)), random_forest, label='Random Forest')\n",
    "plt.plot(range(len(decision_tree)), decision_tree, label='Decision Tree')\n",
    "plt.plot(range(len(ground_truth)), ground_truth, label='Ground Truth')\n",
    "plt.xlim([0, test_samples])\n",
    "plt.ylim([0, 100])\n",
    "plt.xlabel('songs')\n",
    "plt.ylabel('popularity')\n",
    "plt.legend()\n",
    "plt.show()\n",
    "\"\"\""
   ]
  },
  {
   "cell_type": "code",
   "execution_count": 557,
   "metadata": {},
   "outputs": [
    {
     "data": {
      "text/plain": [
       "'\\n# Variables normalization\\nacousticness = [0,1]\\ndanceability = [0,1]\\nduration_s = [0,600]\\nenergy = [0,1]\\ninstrumentalness = [0,1]\\nliveness = [0,1]\\nloudness= [ -60,0]\\nspeechiness = [0,1]\\ntempo = [0,250]\\nvalence = [0,1]\\nmode = [0,1]\\nfeatures_range = {\"acousticness\":[0,1],\"danceability\" : [0,1],\"duration_s\":[0,600],\"energy\":[0,1],\"instrumentalness\":[0,1],\"liveness\":[0,1],\"loudness\": [-60,0],\"speechiness\" : [0,1],\"tempo\" : [0,250],\"valence\" : [0,1],\"mode\" : [0,1]}\\n'"
      ]
     },
     "execution_count": 557,
     "metadata": {},
     "output_type": "execute_result"
    }
   ],
   "source": [
    "\"\"\"\n",
    "# Variables normalization\n",
    "acousticness = [0,1]\n",
    "danceability = [0,1]\n",
    "duration_s = [0,600]\n",
    "energy = [0,1]\n",
    "instrumentalness = [0,1]\n",
    "liveness = [0,1]\n",
    "loudness= [ -60,0]\n",
    "speechiness = [0,1]\n",
    "tempo = [0,250]\n",
    "valence = [0,1]\n",
    "mode = [0,1]\n",
    "features_range = {\"acousticness\":[0,1],\"danceability\" : [0,1],\"duration_s\":[0,600],\"energy\":[0,1],\"instrumentalness\":[0,1],\"liveness\":[0,1],\"loudness\": [-60,0],\"speechiness\" : [0,1],\"tempo\" : [0,250],\"valence\" : [0,1],\"mode\" : [0,1]}\n",
    "\"\"\""
   ]
  },
  {
   "cell_type": "code",
   "execution_count": 558,
   "metadata": {},
   "outputs": [
    {
     "data": {
      "text/plain": [
       "'\\nregression = [50]\\nrandom_forest = [50]\\ndecision_tree = [50]\\nfeatures = X.shape[1]\\nwidgets_box = []\\nheaders = X.columns\\ntemp_sample =X.iloc[5]\\n\\n#features_range[\"acousticness\"][0]\\nfor feature in range(features):\\n    \\n    temp_widget = widgets.FloatSlider(\\n    value=temp_sample[feature],\\n    min=features_range[headers[feature]][0],\\n    max=features_range[headers[feature]][1],\\n    step=0.1,\\n    description=headers[feature],\\n    disabled=False,\\n    continuous_update=False,\\n    orientation=\\'vertical\\',\\n    readout=True,\\n    readout_format=\\'.1f\\',\\n    )\\n    widgets_box.append(temp_widget)\\n\\n\\nbox = Box(children=widgets_box)\\nbox \\n'"
      ]
     },
     "execution_count": 558,
     "metadata": {},
     "output_type": "execute_result"
    }
   ],
   "source": [
    "\"\"\"\n",
    "regression = [50]\n",
    "random_forest = [50]\n",
    "decision_tree = [50]\n",
    "features = X.shape[1]\n",
    "widgets_box = []\n",
    "headers = X.columns\n",
    "temp_sample =X.iloc[5]\n",
    "\n",
    "#features_range[\"acousticness\"][0]\n",
    "for feature in range(features):\n",
    "    \n",
    "    temp_widget = widgets.FloatSlider(\n",
    "    value=temp_sample[feature],\n",
    "    min=features_range[headers[feature]][0],\n",
    "    max=features_range[headers[feature]][1],\n",
    "    step=0.1,\n",
    "    description=headers[feature],\n",
    "    disabled=False,\n",
    "    continuous_update=False,\n",
    "    orientation='vertical',\n",
    "    readout=True,\n",
    "    readout_format='.1f',\n",
    "    )\n",
    "    widgets_box.append(temp_widget)\n",
    "\n",
    "\n",
    "box = Box(children=widgets_box)\n",
    "box \n",
    "\"\"\""
   ]
  },
  {
   "cell_type": "code",
   "execution_count": 559,
   "metadata": {},
   "outputs": [
    {
     "data": {
      "text/plain": [
       "'\\nfor feature in range(features): \\n    temp_sample[feature] = widgets_box[feature].value\\n'"
      ]
     },
     "execution_count": 559,
     "metadata": {},
     "output_type": "execute_result"
    }
   ],
   "source": [
    "\"\"\"\n",
    "for feature in range(features): \n",
    "    temp_sample[feature] = widgets_box[feature].value\n",
    "\"\"\""
   ]
  },
  {
   "cell_type": "code",
   "execution_count": 560,
   "metadata": {},
   "outputs": [
    {
     "data": {
      "text/plain": [
       "\"\\nregression.append(model_regression.predict([temp_sample])) \\nrandom_forest.append(model_random_forest.predict([temp_sample]))\\ndecision_tree.append(model_decision_tree.predict([temp_sample]))\\n\\n# Plot a simple line chart\\nplt.plot(range(len(regression)), regression, label='Linear Regression')\\nplt.plot(range(len(random_forest)), random_forest, label='Random Forest')\\nplt.plot(range(len(decision_tree)), decision_tree, label='Decision Tree')\\nplt.xlim([0, len(regression)])\\nplt.ylim([0, 100])\\nplt.legend()\\nplt.show()\\n\""
      ]
     },
     "execution_count": 560,
     "metadata": {},
     "output_type": "execute_result"
    }
   ],
   "source": [
    "\"\"\"\n",
    "regression.append(model_regression.predict([temp_sample])) \n",
    "random_forest.append(model_random_forest.predict([temp_sample]))\n",
    "decision_tree.append(model_decision_tree.predict([temp_sample]))\n",
    "\n",
    "# Plot a simple line chart\n",
    "plt.plot(range(len(regression)), regression, label='Linear Regression')\n",
    "plt.plot(range(len(random_forest)), random_forest, label='Random Forest')\n",
    "plt.plot(range(len(decision_tree)), decision_tree, label='Decision Tree')\n",
    "plt.xlim([0, len(regression)])\n",
    "plt.ylim([0, 100])\n",
    "plt.legend()\n",
    "plt.show()\n",
    "\"\"\""
   ]
  },
  {
   "cell_type": "code",
   "execution_count": 587,
   "metadata": {},
   "outputs": [],
   "source": [
    "def build_model():\n",
    "    model = keras.Sequential([\n",
    "        layers.Dense(64, activation=tf.nn.relu,input_shape=[X.shape[1]]),\n",
    "        layers.Dense(64, activation = tf.nn.relu),\n",
    "        layers.Dense(1)\n",
    "\n",
    "    ])\n",
    "    optimizer = tf.keras.optimizers.RMSprop(.001)\n",
    "    model.compile(loss=\"mse\",optimizer=optimizer,metrics=['mae','mse']) # examine our model\n",
    "    return model\n",
    "model = build_model()"
   ]
  },
  {
   "cell_type": "code",
   "execution_count": 588,
   "metadata": {},
   "outputs": [
    {
     "name": "stdout",
     "output_type": "stream",
     "text": [
      "Model: \"sequential_2\"\n",
      "_________________________________________________________________\n",
      " Layer (type)                Output Shape              Param #   \n",
      "=================================================================\n",
      " dense_6 (Dense)             (None, 64)                1408      \n",
      "                                                                 \n",
      " dense_7 (Dense)             (None, 64)                4160      \n",
      "                                                                 \n",
      " dense_8 (Dense)             (None, 1)                 65        \n",
      "                                                                 \n",
      "=================================================================\n",
      "Total params: 5,633\n",
      "Trainable params: 5,633\n",
      "Non-trainable params: 0\n",
      "_________________________________________________________________\n"
     ]
    }
   ],
   "source": [
    "if version ==6:\n",
    "    model.summary()"
   ]
  },
  {
   "cell_type": "code",
   "execution_count": 589,
   "metadata": {},
   "outputs": [
    {
     "name": "stdout",
     "output_type": "stream",
     "text": [
      "\n",
      "....................................................................................................\n",
      "....................................................................................................\n",
      "....................................................................................................\n",
      "....................................................................................................\n",
      "...................................................................................................."
     ]
    }
   ],
   "source": [
    "if version == 6:\n",
    "    # train the model\n",
    "    class PrintDot(keras.callbacks.Callback):\n",
    "        def on_epoch_end(self,epoch,logs):\n",
    "            if epoch % 100==0: print(\"\")\n",
    "            print('.',end=\"\")\n",
    "\n",
    "    EPOCHS = 500\n",
    "    early_stop = keras.callbacks.EarlyStopping(monitor='val_loss',patience=10)\n",
    "    history = model.fit(\n",
    "        X,y, epochs = EPOCHS,validation_split = 0.2, verbose = 0,callbacks = [PrintDot()])"
   ]
  },
  {
   "cell_type": "code",
   "execution_count": 564,
   "metadata": {},
   "outputs": [
    {
     "data": {
      "text/plain": [
       "\"\\nhist = pd.DataFrame(history.history)\\nhist['epoch'] = history.epoch\\nhist.tail()\\n\""
      ]
     },
     "execution_count": 564,
     "metadata": {},
     "output_type": "execute_result"
    }
   ],
   "source": [
    "\"\"\"\n",
    "hist = pd.DataFrame(history.history)\n",
    "hist['epoch'] = history.epoch\n",
    "hist.tail()\n",
    "\"\"\""
   ]
  },
  {
   "cell_type": "code",
   "execution_count": 565,
   "metadata": {},
   "outputs": [],
   "source": [
    "if version == 6:\n",
    "    def plot_history(history):\n",
    "        hist = pd.DataFrame(history.history)\n",
    "        hist['epoch'] = history.epoch\n",
    "        plt.figure()\n",
    "        plt.xlabel('Epoch')\n",
    "        plt.ylabel('Mean Abs Error')\n",
    "        plt.plot(hist['epoch'], hist['mae'],label='Train Error')\n",
    "        plt.plot(hist['epoch'],hist['val_mae'],label='Validation Error')\n",
    "        plt.legend()\n",
    "        plt.ylim([0,1])\n",
    "        plt.figure()\n",
    "        plt.xlabel('Epoch')\n",
    "        plt.ylabel('Mean Square Error')\n",
    "        plt.plot(hist['epoch'], hist['mse'],label='Train Error')\n",
    "        plt.plot(hist['epoch'], hist['val_mse'],label='Validation Error')\n",
    "        plt.legend()\n",
    "        plt.ylim([0,1])\n",
    "    plot_history(history)   "
   ]
  },
  {
   "cell_type": "code",
   "execution_count": 596,
   "metadata": {},
   "outputs": [
    {
     "name": "stdout",
     "output_type": "stream",
     "text": [
      "1105/1105 [==============================] - 2s 2ms/step\n"
     ]
    },
    {
     "data": {
      "image/png": "[encoded data removed]",
      "text/plain": [
       "<Figure size 432x288 with 1 Axes>"
      ]
     },
     "metadata": {
      "needs_background": "light"
     },
     "output_type": "display_data"
    }
   ],
   "source": [
    "if version ==6:\n",
    "    loss, mae, mse = model.evaluate(X_test,y_test,verbose=0)\n",
    "    rmse_DL =  np.sqrt(mse)\n",
    "    dl = [np.nan,np.nan,np.nan,np.nan,np.nan]\n",
    "    dl.append(rmse_DL)\n",
    "\n",
    "\n",
    "\n",
    "\n",
    "test_predictions = model.predict(X_test).flatten()\n",
    "plt.scatter(y_test[0:100], test_predictions[0:100])\n",
    "plt.xlabel(\"True Value\")\n",
    "plt.ylabel(\"Predictions\")\n",
    "plt.axis('equal')\n",
    "plt.axis('Square')\n",
    "plt.xlim([0,plt.xlim()[1]])\n",
    "plt.ylim([0,plt.ylim()[1]])\n",
    "_ = plt.plot([-100,100],[-100,100])\n"
   ]
  },
  {
   "cell_type": "code",
   "execution_count": 593,
   "metadata": {},
   "outputs": [
    {
     "data": {
      "image/png": "[encoded data removed]",
      "text/plain": [
       "<Figure size 432x288 with 1 Axes>"
      ]
     },
     "metadata": {
      "needs_background": "light"
     },
     "output_type": "display_data"
    },
    {
     "name": "stdout",
     "output_type": "stream",
     "text": [
      "[15.634710729287956, 11.975218292456146, 12.000237598033712, 11.889231239972283] [20.25346896787413, 15.473930725420058, 15.734280921864858, 15.249918810524482] [14.159450764830785, 10.792814600585421, 11.04594021641657, 10.748570225943]\n",
      "[nan, nan, nan, nan, nan, 11.329917018818819]\n"
     ]
    }
   ],
   "source": [
    "# Models' Mean Squared Error\n",
    "\n",
    "\n",
    "plt.plot(Phase[0:len(regression_rmse)], regression_rmse, label='Linear Regression')\n",
    "plt.plot(Phase[0:len(regression_rmse)], decision_tree_rmse, label='Decision Tree')\n",
    "plt.plot(Phase[0:len(regression_rmse)], random_forest_rmse, label='Random Forest')\n",
    "#if version == 6:\n",
    "    #plt.plot(Phase, dl, label='dl',linewidth=2,marker=\"*\")\n",
    "plt.xticks(Phase[0:len(regression_rmse)])\n",
    "plt.ylim([0, 20])\n",
    "plt.legend()\n",
    "plt.show()\n",
    "print(regression_rmse,decision_tree_rmse,random_forest_rmse)\n",
    "print(dl)\n"
   ]
  },
  {
   "cell_type": "code",
   "execution_count": 568,
   "metadata": {},
   "outputs": [
    {
     "data": {
      "text/plain": [
       "'\\n# not relevant\\n# create a random forest regression object\\nmodel_random_forest = RandomForestRegressor(n_estimators = 200)\\n\\nmodel_random_forest.fit(X_train,y_train)\\n# estimate the R² score on train data\\nprint(\"Train data - the R^2 is\",model_random_forest.score(X_train,y_train))\\n# estimate the R² score on test data\\nprint(\"Test data - the R^2 is\",model_random_forest.score(X_test,y_test))\\n'"
      ]
     },
     "execution_count": 568,
     "metadata": {},
     "output_type": "execute_result"
    }
   ],
   "source": [
    "\"\"\"\n",
    "# not relevant\n",
    "# create a random forest regression object\n",
    "model_random_forest = RandomForestRegressor(n_estimators = 200)\n",
    "\n",
    "model_random_forest.fit(X_train,y_train)\n",
    "# estimate the R² score on train data\n",
    "print(\"Train data - the R^2 is\",model_random_forest.score(X_train,y_train))\n",
    "# estimate the R² score on test data\n",
    "print(\"Test data - the R^2 is\",model_random_forest.score(X_test,y_test))\n",
    "\"\"\""
   ]
  }
 ],
 "metadata": {
  "interpreter": {
   "hash": "5f319479181283cf71dcef866b9dfb370990a8259534ff227f34530c4c05f245"
  },
  "kernelspec": {
   "display_name": "Python 3.8.8 64-bit",
   "language": "python",
   "name": "python3"
  },
  "language_info": {
   "codemirror_mode": {
    "name": "ipython",
    "version": 3
   },
   "file_extension": ".py",
   "mimetype": "text/x-python",
   "name": "python",
   "nbconvert_exporter": "python",
   "pygments_lexer": "ipython3",
   "version": "3.8.8"
  }
 },
 "nbformat": 4,
 "nbformat_minor": 4
}

{
 "cells": [
  {
   "cell_type": "code",
   "execution_count": 3,
   "metadata": {},
   "outputs": [],
   "source": [
    "import numpy as np\n",
    "import pandas as pd\n",
    "from sklearn import datasets, linear_model\n",
    "from sklearn.model_selection import train_test_split,GridSearchCV\n",
    "from sklearn.ensemble import RandomForestRegressor\n",
    "from sklearn.tree import DecisionTreeRegressor\n",
    "import matplotlib.pyplot as plt # data visualization\n",
    "import ipywidgets as widgets # interactive widgets\n",
    "from ipywidgets import Box"
   ]
  },
  {
   "cell_type": "code",
   "execution_count": 4,
   "metadata": {},
   "outputs": [
    {
     "data": {
      "text/html": [
       "<div>\n",
       "<style scoped>\n",
       "    .dataframe tbody tr th:only-of-type {\n",
       "        vertical-align: middle;\n",
       "    }\n",
       "\n",
       "    .dataframe tbody tr th {\n",
       "        vertical-align: top;\n",
       "    }\n",
       "\n",
       "    .dataframe thead th {\n",
       "        text-align: right;\n",
       "    }\n",
       "</style>\n",
       "<table border=\"1\" class=\"dataframe\">\n",
       "  <thead>\n",
       "    <tr style=\"text-align: right;\">\n",
       "      <th></th>\n",
       "      <th>genre</th>\n",
       "      <th>artist_name</th>\n",
       "      <th>track_name</th>\n",
       "      <th>track_id</th>\n",
       "      <th>popularity</th>\n",
       "      <th>acousticness</th>\n",
       "      <th>danceability</th>\n",
       "      <th>duration_ms</th>\n",
       "      <th>energy</th>\n",
       "      <th>instrumentalness</th>\n",
       "      <th>key</th>\n",
       "      <th>liveness</th>\n",
       "      <th>loudness</th>\n",
       "      <th>mode</th>\n",
       "      <th>speechiness</th>\n",
       "      <th>tempo</th>\n",
       "      <th>time_signature</th>\n",
       "      <th>valence</th>\n",
       "    </tr>\n",
       "  </thead>\n",
       "  <tbody>\n",
       "    <tr>\n",
       "      <th>0</th>\n",
       "      <td>Movie</td>\n",
       "      <td>Henri Salvador</td>\n",
       "      <td>C'est beau de faire un Show</td>\n",
       "      <td>0BRjO6ga9RKCKjfDqeFgWV</td>\n",
       "      <td>0</td>\n",
       "      <td>0.61100</td>\n",
       "      <td>0.389</td>\n",
       "      <td>99373</td>\n",
       "      <td>0.910</td>\n",
       "      <td>0.000000</td>\n",
       "      <td>C#</td>\n",
       "      <td>0.3460</td>\n",
       "      <td>-1.828</td>\n",
       "      <td>Major</td>\n",
       "      <td>0.0525</td>\n",
       "      <td>166.969</td>\n",
       "      <td>4/4</td>\n",
       "      <td>0.814</td>\n",
       "    </tr>\n",
       "    <tr>\n",
       "      <th>1</th>\n",
       "      <td>Movie</td>\n",
       "      <td>Martin &amp; les fées</td>\n",
       "      <td>Perdu d'avance (par Gad Elmaleh)</td>\n",
       "      <td>0BjC1NfoEOOusryehmNudP</td>\n",
       "      <td>1</td>\n",
       "      <td>0.24600</td>\n",
       "      <td>0.590</td>\n",
       "      <td>137373</td>\n",
       "      <td>0.737</td>\n",
       "      <td>0.000000</td>\n",
       "      <td>F#</td>\n",
       "      <td>0.1510</td>\n",
       "      <td>-5.559</td>\n",
       "      <td>Minor</td>\n",
       "      <td>0.0868</td>\n",
       "      <td>174.003</td>\n",
       "      <td>4/4</td>\n",
       "      <td>0.816</td>\n",
       "    </tr>\n",
       "    <tr>\n",
       "      <th>2</th>\n",
       "      <td>Movie</td>\n",
       "      <td>Joseph Williams</td>\n",
       "      <td>Don't Let Me Be Lonely Tonight</td>\n",
       "      <td>0CoSDzoNIKCRs124s9uTVy</td>\n",
       "      <td>3</td>\n",
       "      <td>0.95200</td>\n",
       "      <td>0.663</td>\n",
       "      <td>170267</td>\n",
       "      <td>0.131</td>\n",
       "      <td>0.000000</td>\n",
       "      <td>C</td>\n",
       "      <td>0.1030</td>\n",
       "      <td>-13.879</td>\n",
       "      <td>Minor</td>\n",
       "      <td>0.0362</td>\n",
       "      <td>99.488</td>\n",
       "      <td>5/4</td>\n",
       "      <td>0.368</td>\n",
       "    </tr>\n",
       "    <tr>\n",
       "      <th>3</th>\n",
       "      <td>Movie</td>\n",
       "      <td>Henri Salvador</td>\n",
       "      <td>Dis-moi Monsieur Gordon Cooper</td>\n",
       "      <td>0Gc6TVm52BwZD07Ki6tIvf</td>\n",
       "      <td>0</td>\n",
       "      <td>0.70300</td>\n",
       "      <td>0.240</td>\n",
       "      <td>152427</td>\n",
       "      <td>0.326</td>\n",
       "      <td>0.000000</td>\n",
       "      <td>C#</td>\n",
       "      <td>0.0985</td>\n",
       "      <td>-12.178</td>\n",
       "      <td>Major</td>\n",
       "      <td>0.0395</td>\n",
       "      <td>171.758</td>\n",
       "      <td>4/4</td>\n",
       "      <td>0.227</td>\n",
       "    </tr>\n",
       "    <tr>\n",
       "      <th>4</th>\n",
       "      <td>Movie</td>\n",
       "      <td>Fabien Nataf</td>\n",
       "      <td>Ouverture</td>\n",
       "      <td>0IuslXpMROHdEPvSl1fTQK</td>\n",
       "      <td>4</td>\n",
       "      <td>0.95000</td>\n",
       "      <td>0.331</td>\n",
       "      <td>82625</td>\n",
       "      <td>0.225</td>\n",
       "      <td>0.123000</td>\n",
       "      <td>F</td>\n",
       "      <td>0.2020</td>\n",
       "      <td>-21.150</td>\n",
       "      <td>Major</td>\n",
       "      <td>0.0456</td>\n",
       "      <td>140.576</td>\n",
       "      <td>4/4</td>\n",
       "      <td>0.390</td>\n",
       "    </tr>\n",
       "    <tr>\n",
       "      <th>...</th>\n",
       "      <td>...</td>\n",
       "      <td>...</td>\n",
       "      <td>...</td>\n",
       "      <td>...</td>\n",
       "      <td>...</td>\n",
       "      <td>...</td>\n",
       "      <td>...</td>\n",
       "      <td>...</td>\n",
       "      <td>...</td>\n",
       "      <td>...</td>\n",
       "      <td>...</td>\n",
       "      <td>...</td>\n",
       "      <td>...</td>\n",
       "      <td>...</td>\n",
       "      <td>...</td>\n",
       "      <td>...</td>\n",
       "      <td>...</td>\n",
       "      <td>...</td>\n",
       "    </tr>\n",
       "    <tr>\n",
       "      <th>232720</th>\n",
       "      <td>Soul</td>\n",
       "      <td>Slave</td>\n",
       "      <td>Son Of Slide</td>\n",
       "      <td>2XGLdVl7lGeq8ksM6Al7jT</td>\n",
       "      <td>39</td>\n",
       "      <td>0.00384</td>\n",
       "      <td>0.687</td>\n",
       "      <td>326240</td>\n",
       "      <td>0.714</td>\n",
       "      <td>0.544000</td>\n",
       "      <td>D</td>\n",
       "      <td>0.0845</td>\n",
       "      <td>-10.626</td>\n",
       "      <td>Major</td>\n",
       "      <td>0.0316</td>\n",
       "      <td>115.542</td>\n",
       "      <td>4/4</td>\n",
       "      <td>0.962</td>\n",
       "    </tr>\n",
       "    <tr>\n",
       "      <th>232721</th>\n",
       "      <td>Soul</td>\n",
       "      <td>Jr Thomas &amp; The Volcanos</td>\n",
       "      <td>Burning Fire</td>\n",
       "      <td>1qWZdkBl4UVPj9lK6HuuFM</td>\n",
       "      <td>38</td>\n",
       "      <td>0.03290</td>\n",
       "      <td>0.785</td>\n",
       "      <td>282447</td>\n",
       "      <td>0.683</td>\n",
       "      <td>0.000880</td>\n",
       "      <td>E</td>\n",
       "      <td>0.2370</td>\n",
       "      <td>-6.944</td>\n",
       "      <td>Minor</td>\n",
       "      <td>0.0337</td>\n",
       "      <td>113.830</td>\n",
       "      <td>4/4</td>\n",
       "      <td>0.969</td>\n",
       "    </tr>\n",
       "    <tr>\n",
       "      <th>232722</th>\n",
       "      <td>Soul</td>\n",
       "      <td>Muddy Waters</td>\n",
       "      <td>(I'm Your) Hoochie Coochie Man</td>\n",
       "      <td>2ziWXUmQLrXTiYjCg2fZ2t</td>\n",
       "      <td>47</td>\n",
       "      <td>0.90100</td>\n",
       "      <td>0.517</td>\n",
       "      <td>166960</td>\n",
       "      <td>0.419</td>\n",
       "      <td>0.000000</td>\n",
       "      <td>D</td>\n",
       "      <td>0.0945</td>\n",
       "      <td>-8.282</td>\n",
       "      <td>Major</td>\n",
       "      <td>0.1480</td>\n",
       "      <td>84.135</td>\n",
       "      <td>4/4</td>\n",
       "      <td>0.813</td>\n",
       "    </tr>\n",
       "    <tr>\n",
       "      <th>232723</th>\n",
       "      <td>Soul</td>\n",
       "      <td>R.LUM.R</td>\n",
       "      <td>With My Words</td>\n",
       "      <td>6EFsue2YbIG4Qkq8Zr9Rir</td>\n",
       "      <td>44</td>\n",
       "      <td>0.26200</td>\n",
       "      <td>0.745</td>\n",
       "      <td>222442</td>\n",
       "      <td>0.704</td>\n",
       "      <td>0.000000</td>\n",
       "      <td>A</td>\n",
       "      <td>0.3330</td>\n",
       "      <td>-7.137</td>\n",
       "      <td>Major</td>\n",
       "      <td>0.1460</td>\n",
       "      <td>100.031</td>\n",
       "      <td>4/4</td>\n",
       "      <td>0.489</td>\n",
       "    </tr>\n",
       "    <tr>\n",
       "      <th>232724</th>\n",
       "      <td>Soul</td>\n",
       "      <td>Mint Condition</td>\n",
       "      <td>You Don't Have To Hurt No More</td>\n",
       "      <td>34XO9RwPMKjbvRry54QzWn</td>\n",
       "      <td>35</td>\n",
       "      <td>0.09730</td>\n",
       "      <td>0.758</td>\n",
       "      <td>323027</td>\n",
       "      <td>0.470</td>\n",
       "      <td>0.000049</td>\n",
       "      <td>G#</td>\n",
       "      <td>0.0836</td>\n",
       "      <td>-6.708</td>\n",
       "      <td>Minor</td>\n",
       "      <td>0.0287</td>\n",
       "      <td>113.897</td>\n",
       "      <td>4/4</td>\n",
       "      <td>0.479</td>\n",
       "    </tr>\n",
       "  </tbody>\n",
       "</table>\n",
       "<p>232725 rows × 18 columns</p>\n",
       "</div>"
      ],
      "text/plain": [
       "        genre               artist_name                        track_name  \\\n",
       "0       Movie            Henri Salvador       C'est beau de faire un Show   \n",
       "1       Movie         Martin & les fées  Perdu d'avance (par Gad Elmaleh)   \n",
       "2       Movie           Joseph Williams    Don't Let Me Be Lonely Tonight   \n",
       "3       Movie            Henri Salvador    Dis-moi Monsieur Gordon Cooper   \n",
       "4       Movie              Fabien Nataf                         Ouverture   \n",
       "...       ...                       ...                               ...   \n",
       "232720   Soul                     Slave                      Son Of Slide   \n",
       "232721   Soul  Jr Thomas & The Volcanos                      Burning Fire   \n",
       "232722   Soul              Muddy Waters    (I'm Your) Hoochie Coochie Man   \n",
       "232723   Soul                   R.LUM.R                     With My Words   \n",
       "232724   Soul            Mint Condition    You Don't Have To Hurt No More   \n",
       "\n",
       "                      track_id  popularity  acousticness  danceability  \\\n",
       "0       0BRjO6ga9RKCKjfDqeFgWV           0       0.61100         0.389   \n",
       "1       0BjC1NfoEOOusryehmNudP           1       0.24600         0.590   \n",
       "2       0CoSDzoNIKCRs124s9uTVy           3       0.95200         0.663   \n",
       "3       0Gc6TVm52BwZD07Ki6tIvf           0       0.70300         0.240   \n",
       "4       0IuslXpMROHdEPvSl1fTQK           4       0.95000         0.331   \n",
       "...                        ...         ...           ...           ...   \n",
       "232720  2XGLdVl7lGeq8ksM6Al7jT          39       0.00384         0.687   \n",
       "232721  1qWZdkBl4UVPj9lK6HuuFM          38       0.03290         0.785   \n",
       "232722  2ziWXUmQLrXTiYjCg2fZ2t          47       0.90100         0.517   \n",
       "232723  6EFsue2YbIG4Qkq8Zr9Rir          44       0.26200         0.745   \n",
       "232724  34XO9RwPMKjbvRry54QzWn          35       0.09730         0.758   \n",
       "\n",
       "        duration_ms  energy  instrumentalness key  liveness  loudness   mode  \\\n",
       "0             99373   0.910          0.000000  C#    0.3460    -1.828  Major   \n",
       "1            137373   0.737          0.000000  F#    0.1510    -5.559  Minor   \n",
       "2            170267   0.131          0.000000   C    0.1030   -13.879  Minor   \n",
       "3            152427   0.326          0.000000  C#    0.0985   -12.178  Major   \n",
       "4             82625   0.225          0.123000   F    0.2020   -21.150  Major   \n",
       "...             ...     ...               ...  ..       ...       ...    ...   \n",
       "232720       326240   0.714          0.544000   D    0.0845   -10.626  Major   \n",
       "232721       282447   0.683          0.000880   E    0.2370    -6.944  Minor   \n",
       "232722       166960   0.419          0.000000   D    0.0945    -8.282  Major   \n",
       "232723       222442   0.704          0.000000   A    0.3330    -7.137  Major   \n",
       "232724       323027   0.470          0.000049  G#    0.0836    -6.708  Minor   \n",
       "\n",
       "        speechiness    tempo time_signature  valence  \n",
       "0            0.0525  166.969            4/4    0.814  \n",
       "1            0.0868  174.003            4/4    0.816  \n",
       "2            0.0362   99.488            5/4    0.368  \n",
       "3            0.0395  171.758            4/4    0.227  \n",
       "4            0.0456  140.576            4/4    0.390  \n",
       "...             ...      ...            ...      ...  \n",
       "232720       0.0316  115.542            4/4    0.962  \n",
       "232721       0.0337  113.830            4/4    0.969  \n",
       "232722       0.1480   84.135            4/4    0.813  \n",
       "232723       0.1460  100.031            4/4    0.489  \n",
       "232724       0.0287  113.897            4/4    0.479  \n",
       "\n",
       "[232725 rows x 18 columns]"
      ]
     },
     "execution_count": 4,
     "metadata": {},
     "output_type": "execute_result"
    }
   ],
   "source": [
    "# data loading and descriptive statistics\n",
    "df = pd.read_csv('SpotifyFeatures.csv')\n",
    "df\n",
    "\n"
   ]
  },
  {
   "cell_type": "code",
   "execution_count": 5,
   "metadata": {},
   "outputs": [],
   "source": [
    "\n",
    "# Remove duplicates + unnecessary variables\n",
    "df.drop_duplicates(subset=['track_id'], keep='first',inplace=True)\n",
    "df.drop(['genre','artist_name','track_name','track_id','key','time_signature'],axis=1, inplace=True)\n",
    "\n",
    "# Data cleaning and arrangement the data\n",
    "#time_signature_df=pd.get_dummies(df[\"time_signature\"]) # create dummy variables for the categorical variable \"time_signature\" \n",
    "#df = pd.concat([df,time_signature_df],axis=1) # add the dummy variables\n",
    "df['mode'] = np.where(df['mode']=='Major', 1, 0) #change songs' mode (minor/major) to numerical\n",
    "\n",
    "# change songs duration from milliseconds to seconds\n",
    "df['duration_ms'] = df['duration_ms'] / 1000\n",
    "df.rename(columns={'duration_ms': 'duration_s'}, inplace=True) # update column label\n"
   ]
  },
  {
   "cell_type": "code",
   "execution_count": 6,
   "metadata": {},
   "outputs": [],
   "source": [
    "X= df.loc[:,df.columns !=\"popularity\"]\n",
    "y = df[\"popularity\"]\n"
   ]
  },
  {
   "cell_type": "code",
   "execution_count": 9,
   "metadata": {},
   "outputs": [],
   "source": [
    "# separate the data to training and testing\n",
    "X_train, X_test, y_train,y_test=train_test_split(X,y,test_size=0.2)\n",
    "# save as np.array\n",
    "X_train = np.array(X_train)\n",
    "X_test = np.array(X_test)\n",
    "y_train = np.array(y_train) \n",
    "y_test = np.array(y_test) "
   ]
  },
  {
   "cell_type": "code",
   "execution_count": 10,
   "metadata": {},
   "outputs": [],
   "source": [
    "# create a linear regression object\n",
    "model_regression = linear_model.LinearRegression()\n",
    "\n",
    "# create a random forest regression object\n",
    "model_random_forest = RandomForestRegressor()\n",
    "\n",
    "# create a random forest regression object\n",
    "model_decision_tree = DecisionTreeRegressor()"
   ]
  },
  {
   "cell_type": "code",
   "execution_count": 11,
   "metadata": {},
   "outputs": [
    {
     "data": {
      "text/plain": [
       "DecisionTreeRegressor()"
      ]
     },
     "execution_count": 11,
     "metadata": {},
     "output_type": "execute_result"
    }
   ],
   "source": [
    "# The models\n",
    "model_regression.fit(X_train,y_train)\n",
    "model_random_forest.fit(X_train,y_train)\n",
    "model_decision_tree.fit(X_train,y_train)"
   ]
  },
  {
   "cell_type": "code",
   "execution_count": 12,
   "metadata": {},
   "outputs": [
    {
     "name": "stdout",
     "output_type": "stream",
     "text": [
      "Train data - the R^2 is 0.2020073597225791\n",
      "Test data - the R^2 is 0.2030481687322876\n"
     ]
    }
   ],
   "source": [
    "# estimate the R² score on train data\n",
    "print(\"Train data - the R^2 is\",model_regression.score(X_train,y_train))\n",
    "# estimate the R² score on test data\n",
    "print(\"Test data - the R^2 is\",model_regression.score(X_test,y_test))"
   ]
  },
  {
   "cell_type": "code",
   "execution_count": 13,
   "metadata": {},
   "outputs": [
    {
     "name": "stdout",
     "output_type": "stream",
     "text": [
      "Train data - the R^2 is 0.9070075938691831\n",
      "Test data - the R^2 is 0.3424574806483708\n"
     ]
    }
   ],
   "source": [
    "# estimate the R² score on train data\n",
    "print(\"Train data - the R^2 is\",model_random_forest.score(X_train,y_train))\n",
    "# estimate the R² score on test data\n",
    "print(\"Test data - the R^2 is\",model_random_forest.score(X_test,y_test))"
   ]
  },
  {
   "cell_type": "code",
   "execution_count": 14,
   "metadata": {},
   "outputs": [
    {
     "name": "stdout",
     "output_type": "stream",
     "text": [
      "Train data - the R^2 is 0.9984067671371292\n",
      "Test data - the R^2 is -0.3790572573714508\n"
     ]
    }
   ],
   "source": [
    "# estimate the R² score on train data\n",
    "print(\"Train data - the R^2 is\",model_decision_tree.score(X_train,y_train))\n",
    "# estimate the R² score on test data\n",
    "print(\"Test data - the R^2 is\",model_decision_tree.score(X_test,y_test))"
   ]
  },
  {
   "cell_type": "code",
   "execution_count": 16,
   "metadata": {},
   "outputs": [
    {
     "data": {
      "image/png": "[encoded data removed]",
      "text/plain": [
       "<Figure size 432x288 with 1 Axes>"
      ]
     },
     "metadata": {
      "needs_background": "light"
     },
     "output_type": "display_data"
    }
   ],
   "source": [
    "import matplotlib.pyplot as plt\n",
    "test_samples = 10\n",
    "regression = []\n",
    "random_forest = []\n",
    "decision_tree = []\n",
    "ground_truth = []\n",
    "for i in range(test_samples): \n",
    "    regression.append(model_regression.predict([X_test[i]])) \n",
    "    random_forest.append(model_random_forest.predict([X_test[i]]))\n",
    "    decision_tree.append(model_decision_tree.predict([X_test[i]]))\n",
    "    ground_truth.append(y_test[i])\n",
    "\n",
    "plt.plot(range(len(regression)), regression, label='Linear Regression')\n",
    "plt.plot(range(len(random_forest)), random_forest, label='Random Forest')\n",
    "plt.plot(range(len(decision_tree)), decision_tree, label='Decision Tree')\n",
    "plt.plot(range(len(ground_truth)), ground_truth, label='Ground Truth')\n",
    "plt.xlim([0, test_samples])\n",
    "plt.ylim([0, 100])\n",
    "plt.xlabel('songs')\n",
    "plt.ylabel('popularity')\n",
    "plt.legend()\n",
    "plt.show()"
   ]
  },
  {
   "cell_type": "code",
   "execution_count": 17,
   "metadata": {},
   "outputs": [],
   "source": [
    "# Variables normalization\n",
    "acousticness = [0,1]\n",
    "danceability = [0,1]\n",
    "duration_s = [0,600]\n",
    "energy = [0,1]\n",
    "instrumentalness = [0,1]\n",
    "liveness = [0,1]\n",
    "loudness= [ -60,0]\n",
    "speechiness = [0,1]\n",
    "tempo = [0,250]\n",
    "valence = [0,1]\n",
    "mode = [0,1]\n",
    "features_range = {\"acousticness\":[0,1],\"danceability\" : [0,1],\"duration_s\":[0,600],\"energy\":[0,1],\"instrumentalness\":[0,1],\"liveness\":[0,1],\"loudness\": [-60,0],\"speechiness\" : [0,1],\"tempo\" : [0,250],\"valence\" : [0,1],\"mode\" : [0,1]}\n"
   ]
  },
  {
   "cell_type": "code",
   "execution_count": 1,
   "metadata": {},
   "outputs": [
    {
     "ename": "NameError",
     "evalue": "name 'X' is not defined",
     "output_type": "error",
     "traceback": [
      "\u001b[1;31m---------------------------------------------------------------------------\u001b[0m",
      "\u001b[1;31mNameError\u001b[0m                                 Traceback (most recent call last)",
      "\u001b[1;32m<ipython-input-1-4d60f7d3f19b>\u001b[0m in \u001b[0;36m<module>\u001b[1;34m\u001b[0m\n\u001b[0;32m      2\u001b[0m \u001b[0mrandom_forest\u001b[0m \u001b[1;33m=\u001b[0m \u001b[1;33m[\u001b[0m\u001b[1;36m50\u001b[0m\u001b[1;33m]\u001b[0m\u001b[1;33m\u001b[0m\u001b[1;33m\u001b[0m\u001b[0m\n\u001b[0;32m      3\u001b[0m \u001b[0mdecision_tree\u001b[0m \u001b[1;33m=\u001b[0m \u001b[1;33m[\u001b[0m\u001b[1;36m50\u001b[0m\u001b[1;33m]\u001b[0m\u001b[1;33m\u001b[0m\u001b[1;33m\u001b[0m\u001b[0m\n\u001b[1;32m----> 4\u001b[1;33m \u001b[0mfeatures\u001b[0m \u001b[1;33m=\u001b[0m \u001b[0mX\u001b[0m\u001b[1;33m.\u001b[0m\u001b[0mshape\u001b[0m\u001b[1;33m[\u001b[0m\u001b[1;36m1\u001b[0m\u001b[1;33m]\u001b[0m\u001b[1;33m\u001b[0m\u001b[1;33m\u001b[0m\u001b[0m\n\u001b[0m\u001b[0;32m      5\u001b[0m \u001b[0mwidgets_box\u001b[0m \u001b[1;33m=\u001b[0m \u001b[1;33m[\u001b[0m\u001b[1;33m]\u001b[0m\u001b[1;33m\u001b[0m\u001b[1;33m\u001b[0m\u001b[0m\n\u001b[0;32m      6\u001b[0m \u001b[0mheaders\u001b[0m \u001b[1;33m=\u001b[0m \u001b[0mX\u001b[0m\u001b[1;33m.\u001b[0m\u001b[0mcolumns\u001b[0m\u001b[1;33m\u001b[0m\u001b[1;33m\u001b[0m\u001b[0m\n",
      "\u001b[1;31mNameError\u001b[0m: name 'X' is not defined"
     ]
    }
   ],
   "source": [
    "regression = [50]\n",
    "random_forest = [50]\n",
    "decision_tree = [50]\n",
    "features = X.shape[1]\n",
    "widgets_box = []\n",
    "headers = X.columns\n",
    "temp_sample =X.iloc[5]\n",
    "\n",
    "#features_range[\"acousticness\"][0]\n",
    "for feature in range(features):\n",
    "    \n",
    "    temp_widget = widgets.FloatSlider(\n",
    "    value=temp_sample[feature],\n",
    "    min=features_range[headers[feature]][0],\n",
    "    max=features_range[headers[feature]][1],\n",
    "    step=0.1,\n",
    "    description=headers[feature],\n",
    "    disabled=False,\n",
    "    continuous_update=False,\n",
    "    orientation='vertical',\n",
    "    readout=True,\n",
    "    readout_format='.1f',\n",
    "    )\n",
    "    widgets_box.append(temp_widget)\n",
    "\n",
    "\n",
    "box = Box(children=widgets_box)\n",
    "box "
   ]
  },
  {
   "cell_type": "code",
   "execution_count": 1,
   "metadata": {},
   "outputs": [
    {
     "ename": "NameError",
     "evalue": "name 'Box' is not defined",
     "output_type": "error",
     "traceback": [
      "\u001b[1;31m---------------------------------------------------------------------------\u001b[0m",
      "\u001b[1;31mNameError\u001b[0m                                 Traceback (most recent call last)",
      "\u001b[1;32m<ipython-input-1-94706688c4c2>\u001b[0m in \u001b[0;36m<module>\u001b[1;34m\u001b[0m\n\u001b[1;32m----> 1\u001b[1;33m \u001b[0mbox\u001b[0m \u001b[1;33m=\u001b[0m \u001b[0mBox\u001b[0m\u001b[1;33m(\u001b[0m\u001b[0mchildren\u001b[0m\u001b[1;33m=\u001b[0m\u001b[0mwidgets_box\u001b[0m\u001b[1;33m)\u001b[0m\u001b[1;33m\u001b[0m\u001b[1;33m\u001b[0m\u001b[0m\n\u001b[0m\u001b[0;32m      2\u001b[0m \u001b[0mbox\u001b[0m \u001b[1;31m# <- this one command displays all children\u001b[0m\u001b[1;33m\u001b[0m\u001b[1;33m\u001b[0m\u001b[0m\n",
      "\u001b[1;31mNameError\u001b[0m: name 'Box' is not defined"
     ]
    }
   ],
   "source": [
    "\n"
   ]
  },
  {
   "cell_type": "code",
   "execution_count": 43,
   "metadata": {},
   "outputs": [
    {
     "name": "stderr",
     "output_type": "stream",
     "text": [
      "<ipython-input-43-c5de197b69e8>:2: SettingWithCopyWarning: \n",
      "A value is trying to be set on a copy of a slice from a DataFrame\n",
      "\n",
      "See the caveats in the documentation: https://pandas.pydata.org/pandas-docs/stable/user_guide/indexing.html#returning-a-view-versus-a-copy\n",
      "  temp_sample[feature] = widgets_box[feature].value\n"
     ]
    }
   ],
   "source": [
    "for feature in range(features): \n",
    "    temp_sample[feature] = widgets_box[feature].value\n"
   ]
  },
  {
   "cell_type": "code",
   "execution_count": 44,
   "metadata": {},
   "outputs": [
    {
     "name": "stderr",
     "output_type": "stream",
     "text": [
      "c:\\Users\\Ido Leshem\\AppData\\Local\\Programs\\Python\\Python38\\lib\\site-packages\\numpy\\core\\_asarray.py:171: VisibleDeprecationWarning: Creating an ndarray from ragged nested sequences (which is a list-or-tuple of lists-or-tuples-or ndarrays with different lengths or shapes) is deprecated. If you meant to do this, you must specify 'dtype=object' when creating the ndarray.\n",
      "  return array(a, dtype, copy=False, order=order, subok=True)\n"
     ]
    },
    {
     "data": {
      "image/png": "[encoded data removed]",
      "text/plain": [
       "<Figure size 432x288 with 1 Axes>"
      ]
     },
     "metadata": {
      "needs_background": "light"
     },
     "output_type": "display_data"
    }
   ],
   "source": [
    "\n",
    "regression.append(model_regression.predict([temp_sample])) \n",
    "random_forest.append(model_random_forest.predict([temp_sample]))\n",
    "decision_tree.append(model_decision_tree.predict([temp_sample]))\n",
    "\n",
    "# Plot a simple line chart\n",
    "plt.plot(range(len(regression)), regression, label='Linear Regression')\n",
    "plt.plot(range(len(random_forest)), random_forest, label='Random Forest')\n",
    "plt.plot(range(len(decision_tree)), decision_tree, label='Decision Tree')\n",
    "plt.xlim([0, len(regression)])\n",
    "plt.ylim([0, 100])\n",
    "plt.legend()\n",
    "plt.show()"
   ]
  }
 ],
 "metadata": {
  "interpreter": {
   "hash": "5f319479181283cf71dcef866b9dfb370990a8259534ff227f34530c4c05f245"
  },
  "kernelspec": {
   "display_name": "Python 3.8.8 64-bit",
   "language": "python",
   "name": "python3"
  },
  "language_info": {
   "codemirror_mode": {
    "name": "ipython",
    "version": 3
   },
   "file_extension": ".py",
   "mimetype": "text/x-python",
   "name": "python",
   "nbconvert_exporter": "python",
   "pygments_lexer": "ipython3",
   "version": "3.8.8"
  }
 },
 "nbformat": 4,
 "nbformat_minor": 4
}
